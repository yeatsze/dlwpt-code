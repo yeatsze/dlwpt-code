{
 "cells": [
  {
   "cell_type": "code",
   "execution_count": 6,
   "metadata": {},
   "outputs": [],
   "source": [
    "import datetime\n",
    "\n",
    "from util.util import importstr\n",
    "from util.logconf import logging\n",
    "log = logging.getLogger('nb')"
   ]
  },
  {
   "cell_type": "code",
   "execution_count": 7,
   "metadata": {},
   "outputs": [],
   "source": [
    "def run(app, *argv):\n",
    "    argv = list(argv)\n",
    "    argv.insert(0, '--num-workers=4')  # <1>\n",
    "    log.info(\"Running: {}({!r}).main()\".format(app, argv))\n",
    "    \n",
    "    app_cls = importstr(*app.rsplit('.', 1))  # <2>\n",
    "    app_cls(argv).main()\n",
    "    \n",
    "    log.info(\"Finished: {}.{!r}).main()\".format(app, argv))"
   ]
  },
  {
   "cell_type": "code",
   "execution_count": 8,
   "metadata": {},
   "outputs": [],
   "source": [
    "import os\n",
    "import shutil\n",
    "\n",
    "# clean up any old data that might be around.\n",
    "# We don't call this by default because it's destructive, \n",
    "# and would waste a lot of time if it ran when nothing \n",
    "# on the application side had changed.\n",
    "def cleanCache():\n",
    "    shutil.rmtree('data-unversioned/cache')\n",
    "    os.mkdir('data-unversioned/cache')\n",
    "\n",
    "# cleanCache()"
   ]
  },
  {
   "cell_type": "code",
   "execution_count": 9,
   "metadata": {},
   "outputs": [],
   "source": [
    "training_epochs = 20\n",
    "experiment_epochs = 10\n",
    "final_epochs = 50\n",
    "\n",
    "training_epochs = 2\n",
    "experiment_epochs = 2\n",
    "final_epochs = 5\n",
    "seg_epochs = 10"
   ]
  },
  {
   "cell_type": "markdown",
   "metadata": {},
   "source": [
    "## Chapter 11"
   ]
  },
  {
   "cell_type": "code",
   "execution_count": 10,
   "metadata": {},
   "outputs": [
    {
     "name": "stderr",
     "output_type": "stream",
     "text": [
      "2023-07-23 12:40:00,907 INFO     pid:22344 nb:004:run Running: p2ch11.prepcache.LunaPrepCacheApp(['--num-workers=4']).main()\n",
      "2023-07-23 12:40:02,093 INFO     pid:22344 p2ch11.prepcache:043:main Starting LunaPrepCacheApp, Namespace(batch_size=1024, num_workers=4)\n",
      "2023-07-23 12:40:04,163 INFO     pid:22344 p2ch11.dsets:182:__init__ <p2ch11.dsets.LunaDataset object at 0x0000020D23A3B0D0>: 0 training samples\n",
      "2023-07-23 12:40:04,164 WARNING  pid:22344 util.util:219:enumerateWithEstimate Stuffing cache ----/0, starting\n",
      "2023-07-23 12:40:09,869 WARNING  pid:22344 util.util:249:enumerateWithEstimate Stuffing cache ----/0, done at 2023-07-23 12:40:09\n",
      "2023-07-23 12:40:09,870 INFO     pid:22344 nb:009:run Finished: p2ch11.prepcache.LunaPrepCacheApp.['--num-workers=4']).main()\n"
     ]
    }
   ],
   "source": [
    "run('p2ch11.prepcache.LunaPrepCacheApp')"
   ]
  },
  {
   "cell_type": "code",
   "execution_count": 11,
   "metadata": {},
   "outputs": [
    {
     "name": "stderr",
     "output_type": "stream",
     "text": [
      "2023-07-23 12:40:09,878 INFO     pid:22344 nb:004:run Running: p2ch11.training.LunaTrainingApp(['--num-workers=4', '--epochs=1']).main()\n",
      "2023-07-23 12:40:24,919 INFO     pid:22344 p2ch11.training:079:initModel Using CUDA; 1 devices.\n",
      "2023-07-23 12:40:25,063 INFO     pid:22344 p2ch11.training:138:main Starting LunaTrainingApp, Namespace(num_workers=4, batch_size=32, epochs=1, tb_prefix='p2ch11', comment='dwlpt')\n"
     ]
    },
    {
     "ename": "AssertionError",
     "evalue": "",
     "output_type": "error",
     "traceback": [
      "\u001b[1;31m---------------------------------------------------------------------------\u001b[0m",
      "\u001b[1;31mAssertionError\u001b[0m                            Traceback (most recent call last)",
      "Cell \u001b[1;32mIn[11], line 1\u001b[0m\n\u001b[1;32m----> 1\u001b[0m run(\u001b[39m'\u001b[39;49m\u001b[39mp2ch11.training.LunaTrainingApp\u001b[39;49m\u001b[39m'\u001b[39;49m, \u001b[39m'\u001b[39;49m\u001b[39m--epochs=1\u001b[39;49m\u001b[39m'\u001b[39;49m)\n",
      "Cell \u001b[1;32mIn[7], line 7\u001b[0m, in \u001b[0;36mrun\u001b[1;34m(app, *argv)\u001b[0m\n\u001b[0;32m      4\u001b[0m log\u001b[39m.\u001b[39minfo(\u001b[39m\"\u001b[39m\u001b[39mRunning: \u001b[39m\u001b[39m{}\u001b[39;00m\u001b[39m(\u001b[39m\u001b[39m{!r}\u001b[39;00m\u001b[39m).main()\u001b[39m\u001b[39m\"\u001b[39m\u001b[39m.\u001b[39mformat(app, argv))\n\u001b[0;32m      6\u001b[0m app_cls \u001b[39m=\u001b[39m importstr(\u001b[39m*\u001b[39mapp\u001b[39m.\u001b[39mrsplit(\u001b[39m'\u001b[39m\u001b[39m.\u001b[39m\u001b[39m'\u001b[39m, \u001b[39m1\u001b[39m))  \u001b[39m# <2>\u001b[39;00m\n\u001b[1;32m----> 7\u001b[0m app_cls(argv)\u001b[39m.\u001b[39;49mmain()\n\u001b[0;32m      9\u001b[0m log\u001b[39m.\u001b[39minfo(\u001b[39m\"\u001b[39m\u001b[39mFinished: \u001b[39m\u001b[39m{}\u001b[39;00m\u001b[39m.\u001b[39m\u001b[39m{!r}\u001b[39;00m\u001b[39m).main()\u001b[39m\u001b[39m\"\u001b[39m\u001b[39m.\u001b[39mformat(app, argv))\n",
      "File \u001b[1;32mk:\\Workspace\\AI\\dlwpt-code\\p2ch11\\training.py:140\u001b[0m, in \u001b[0;36mLunaTrainingApp.main\u001b[1;34m(self)\u001b[0m\n\u001b[0;32m    137\u001b[0m \u001b[39mdef\u001b[39;00m \u001b[39mmain\u001b[39m(\u001b[39mself\u001b[39m):\n\u001b[0;32m    138\u001b[0m     log\u001b[39m.\u001b[39minfo(\u001b[39m\"\u001b[39m\u001b[39mStarting \u001b[39m\u001b[39m{}\u001b[39;00m\u001b[39m, \u001b[39m\u001b[39m{}\u001b[39;00m\u001b[39m\"\u001b[39m\u001b[39m.\u001b[39mformat(\u001b[39mtype\u001b[39m(\u001b[39mself\u001b[39m)\u001b[39m.\u001b[39m\u001b[39m__name__\u001b[39m, \u001b[39mself\u001b[39m\u001b[39m.\u001b[39mcli_args))\n\u001b[1;32m--> 140\u001b[0m     train_dl \u001b[39m=\u001b[39m \u001b[39mself\u001b[39;49m\u001b[39m.\u001b[39;49minitTrainDl()\n\u001b[0;32m    141\u001b[0m     val_dl \u001b[39m=\u001b[39m \u001b[39mself\u001b[39m\u001b[39m.\u001b[39minitValDl()\n\u001b[0;32m    143\u001b[0m     \u001b[39mfor\u001b[39;00m epoch_ndx \u001b[39min\u001b[39;00m \u001b[39mrange\u001b[39m(\u001b[39m1\u001b[39m, \u001b[39mself\u001b[39m\u001b[39m.\u001b[39mcli_args\u001b[39m.\u001b[39mepochs \u001b[39m+\u001b[39m \u001b[39m1\u001b[39m):\n",
      "File \u001b[1;32mk:\\Workspace\\AI\\dlwpt-code\\p2ch11\\training.py:90\u001b[0m, in \u001b[0;36mLunaTrainingApp.initTrainDl\u001b[1;34m(self)\u001b[0m\n\u001b[0;32m     89\u001b[0m \u001b[39mdef\u001b[39;00m \u001b[39minitTrainDl\u001b[39m(\u001b[39mself\u001b[39m):\n\u001b[1;32m---> 90\u001b[0m     train_ds \u001b[39m=\u001b[39m LunaDataset(\n\u001b[0;32m     91\u001b[0m         val_stride\u001b[39m=\u001b[39;49m\u001b[39m10\u001b[39;49m,\n\u001b[0;32m     92\u001b[0m         isValSet_bool\u001b[39m=\u001b[39;49m\u001b[39mFalse\u001b[39;49;00m,\n\u001b[0;32m     93\u001b[0m     )\n\u001b[0;32m     95\u001b[0m     batch_size \u001b[39m=\u001b[39m \u001b[39mself\u001b[39m\u001b[39m.\u001b[39mcli_args\u001b[39m.\u001b[39mbatch_size\n\u001b[0;32m     96\u001b[0m     \u001b[39mif\u001b[39;00m \u001b[39mself\u001b[39m\u001b[39m.\u001b[39muse_cuda:\n",
      "File \u001b[1;32mk:\\Workspace\\AI\\dlwpt-code\\p2ch11\\dsets.py:171\u001b[0m, in \u001b[0;36mLunaDataset.__init__\u001b[1;34m(self, val_stride, isValSet_bool, series_uid, sortby_str)\u001b[0m\n\u001b[0;32m    169\u001b[0m \u001b[39melif\u001b[39;00m val_stride \u001b[39m>\u001b[39m \u001b[39m0\u001b[39m:\n\u001b[0;32m    170\u001b[0m     \u001b[39mdel\u001b[39;00m \u001b[39mself\u001b[39m\u001b[39m.\u001b[39mcandidateInfo_list[::val_stride]\n\u001b[1;32m--> 171\u001b[0m     \u001b[39massert\u001b[39;00m \u001b[39mself\u001b[39m\u001b[39m.\u001b[39mcandidateInfo_list\n\u001b[0;32m    173\u001b[0m \u001b[39mif\u001b[39;00m sortby_str \u001b[39m==\u001b[39m \u001b[39m'\u001b[39m\u001b[39mrandom\u001b[39m\u001b[39m'\u001b[39m:\n\u001b[0;32m    174\u001b[0m     random\u001b[39m.\u001b[39mshuffle(\u001b[39mself\u001b[39m\u001b[39m.\u001b[39mcandidateInfo_list)\n",
      "\u001b[1;31mAssertionError\u001b[0m: "
     ]
    }
   ],
   "source": [
    "run('p2ch11.training.LunaTrainingApp', '--epochs=1')"
   ]
  },
  {
   "cell_type": "code",
   "execution_count": null,
   "metadata": {},
   "outputs": [],
   "source": [
    "run('p2ch11.training.LunaTrainingApp', f'--epochs={experiment_epochs}')"
   ]
  },
  {
   "cell_type": "markdown",
   "metadata": {},
   "source": [
    "## Chapter 12"
   ]
  },
  {
   "cell_type": "code",
   "execution_count": null,
   "metadata": {},
   "outputs": [],
   "source": [
    "run('p2ch12.prepcache.LunaPrepCacheApp')"
   ]
  },
  {
   "cell_type": "code",
   "execution_count": null,
   "metadata": {},
   "outputs": [],
   "source": [
    "run('p2ch12.training.LunaTrainingApp', '--epochs=1', 'unbalanced')"
   ]
  },
  {
   "cell_type": "code",
   "execution_count": null,
   "metadata": {},
   "outputs": [],
   "source": [
    "run('p2ch12.training.LunaTrainingApp', f'--epochs={training_epochs}', '--balanced', 'balanced')"
   ]
  },
  {
   "cell_type": "code",
   "execution_count": null,
   "metadata": {},
   "outputs": [],
   "source": [
    "run('p2ch12.training.LunaTrainingApp', f'--epochs={experiment_epochs}', '--balanced', '--augment-flip', 'flip')"
   ]
  },
  {
   "cell_type": "code",
   "execution_count": null,
   "metadata": {},
   "outputs": [],
   "source": [
    "run('p2ch12.training.LunaTrainingApp', f'--epochs={experiment_epochs}', '--balanced', '--augment-offset', 'offset')"
   ]
  },
  {
   "cell_type": "code",
   "execution_count": null,
   "metadata": {},
   "outputs": [],
   "source": [
    "run('p2ch12.training.LunaTrainingApp', f'--epochs={experiment_epochs}', '--balanced', '--augment-scale', 'scale')"
   ]
  },
  {
   "cell_type": "code",
   "execution_count": null,
   "metadata": {},
   "outputs": [],
   "source": [
    "run('p2ch12.training.LunaTrainingApp', f'--epochs={experiment_epochs}', '--balanced', '--augment-rotate', 'rotate')"
   ]
  },
  {
   "cell_type": "code",
   "execution_count": null,
   "metadata": {},
   "outputs": [],
   "source": [
    "run('p2ch12.training.LunaTrainingApp', f'--epochs={experiment_epochs}', '--balanced', '--augment-noise', 'noise')"
   ]
  },
  {
   "cell_type": "code",
   "execution_count": null,
   "metadata": {},
   "outputs": [],
   "source": [
    "run('p2ch12.training.LunaTrainingApp', f'--epochs={training_epochs}', '--balanced', '--augmented', 'fully-augmented')"
   ]
  },
  {
   "cell_type": "markdown",
   "metadata": {},
   "source": [
    "## Chapter 13"
   ]
  },
  {
   "cell_type": "code",
   "execution_count": null,
   "metadata": {},
   "outputs": [],
   "source": [
    "run('p2ch13.prepcache.LunaPrepCacheApp')"
   ]
  },
  {
   "cell_type": "code",
   "execution_count": null,
   "metadata": {},
   "outputs": [],
   "source": [
    "run('p2ch13.training.LunaTrainingApp', f'--epochs={final_epochs}', '--balanced', '--augmented', 'final-cls')"
   ]
  },
  {
   "cell_type": "code",
   "execution_count": null,
   "metadata": {
    "scrolled": true
   },
   "outputs": [],
   "source": [
    "run('p2ch13.train_seg.LunaTrainingApp', f'--epochs={seg_epochs}', '--augmented', 'final-seg')"
   ]
  },
  {
   "cell_type": "markdown",
   "metadata": {},
   "source": [
    "## Chapter 14"
   ]
  },
  {
   "cell_type": "code",
   "execution_count": null,
   "metadata": {},
   "outputs": [],
   "source": [
    "run('p2ch14.prepcache.LunaPrepCacheApp')"
   ]
  },
  {
   "cell_type": "code",
   "execution_count": null,
   "metadata": {
    "scrolled": true
   },
   "outputs": [],
   "source": [
    "run('p2ch14.training.ClassificationTrainingApp', f'--epochs=100', 'nodule-nonnodule')"
   ]
  },
  {
   "cell_type": "code",
   "execution_count": null,
   "metadata": {
    "scrolled": false
   },
   "outputs": [],
   "source": [
    "run('p2ch14.training.ClassificationTrainingApp', f'--epochs=40', '--malignant', '--dataset=MalignantLunaDataset',\n",
    "    '--finetune=''data/part2/models/cls_2020-02-06_14.16.55_final-nodule-nonnodule.best.state',\n",
    "    'finetune-head')\n"
   ]
  },
  {
   "cell_type": "code",
   "execution_count": null,
   "metadata": {
    "scrolled": false
   },
   "outputs": [],
   "source": [
    "run('p2ch14.training.ClassificationTrainingApp', f'--epochs=40', '--malignant', '--dataset=MalignantLunaDataset',\n",
    "    '--finetune=''data/part2/models/cls_2020-02-06_14.16.55_final-nodule-nonnodule.best.state',\n",
    "    '--finetune-depth=2',\n",
    "    'finetune-depth2')\n"
   ]
  },
  {
   "cell_type": "code",
   "execution_count": null,
   "metadata": {},
   "outputs": [],
   "source": [
    "run('p2ch14.nodule_analysis.NoduleAnalysisApp', '--run-validation')"
   ]
  },
  {
   "cell_type": "code",
   "execution_count": null,
   "metadata": {},
   "outputs": [],
   "source": [
    "run('p2ch14.nodule_analysis.NoduleAnalysisApp', '--run-validation', '--malignancy-path')"
   ]
  },
  {
   "cell_type": "code",
   "execution_count": null,
   "metadata": {},
   "outputs": [],
   "source": []
  },
  {
   "cell_type": "code",
   "execution_count": null,
   "metadata": {},
   "outputs": [],
   "source": []
  }
 ],
 "metadata": {
  "kernelspec": {
   "display_name": "Python 3",
   "language": "python",
   "name": "python3"
  },
  "language_info": {
   "codemirror_mode": {
    "name": "ipython",
    "version": 3
   },
   "file_extension": ".py",
   "mimetype": "text/x-python",
   "name": "python",
   "nbconvert_exporter": "python",
   "pygments_lexer": "ipython3",
   "version": "3.9.17"
  }
 },
 "nbformat": 4,
 "nbformat_minor": 2
}
